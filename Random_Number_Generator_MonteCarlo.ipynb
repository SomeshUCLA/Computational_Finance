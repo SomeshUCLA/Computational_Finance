{
 "cells": [
  {
   "cell_type": "markdown",
   "metadata": {},
   "source": [
    "## This file has coding for random number generators for various distribution <br><br>\n",
    "\n",
    "1. (LGM) Lewis Goodman, Miller - IBM\n",
    "2. Bernoulli\n",
    "3. Binomial\n",
    "4. Poisson\n",
    "5. Exponential\n",
    "6. Gamma\n",
    "7. Normal Distribution \n",
    "    7.1 Box-Muller Method\n",
    "    7.2 Polar-Marsaglia Method\n",
    "8. Uniform normal\n"
   ]
  },
  {
   "cell_type": "markdown",
   "metadata": {},
   "source": [
    "1. Use the Random Number generators discussed in the class to do the following:\n",
    "(a) Using LGM method generate 10,000 Uniformly distributed random numbers on [0,1] and compute the empirical mean and the standard deviation of the sequence.\n",
    "(b) Now use built-in functions of whatever software you are using to do the same thing as in (a).\n",
    "(c) Compare your findings in (a) and (b) and comment (be short but precise)."
   ]
  },
  {
   "cell_type": "code",
   "execution_count": 1,
   "metadata": {
    "scrolled": true
   },
   "outputs": [],
   "source": [
    "import numpy as np\n",
    "\n",
    "import matplotlib.pyplot as plt\n",
    "from timeit import default_timer as timer"
   ]
  },
  {
   "cell_type": "code",
   "execution_count": 5,
   "metadata": {},
   "outputs": [],
   "source": [
    "def lgm(x0,n):       \n",
    "    a = 7**5\n",
    "    m = 2**31-1\n",
    "    x = x0\n",
    "    rand_uni=np.empty(n)\n",
    "    for i in range(0,n):       \n",
    "        x = (a*x) % m\n",
    "        rand_uni[i]=x/m\n",
    "    return rand_uni"
   ]
  },
  {
   "cell_type": "code",
   "execution_count": 7,
   "metadata": {},
   "outputs": [
    {
     "data": {
      "text/plain": [
       "array([3.28707509e-04, 5.24587102e-01, 7.35423532e-01, ...,\n",
       "       9.41892732e-02, 3.91153000e-02, 4.10846337e-01])"
      ]
     },
     "execution_count": 7,
     "metadata": {},
     "output_type": "execute_result"
    }
   ],
   "source": [
    "rand_lgm = lgm(np.random.randint(1,50),10000)  \n",
    "rand_lgm"
   ]
  },
  {
   "cell_type": "code",
   "execution_count": 8,
   "metadata": {},
   "outputs": [
    {
     "data": {
      "text/plain": [
       "0.28905887551012405"
      ]
     },
     "execution_count": 8,
     "metadata": {},
     "output_type": "execute_result"
    }
   ],
   "source": [
    "std_lgm = np.std(rand_lgm)\n",
    "std_lgm"
   ]
  },
  {
   "cell_type": "code",
   "execution_count": 9,
   "metadata": {},
   "outputs": [
    {
     "data": {
      "text/plain": [
       "0.49602653275054254"
      ]
     },
     "execution_count": 9,
     "metadata": {},
     "output_type": "execute_result"
    }
   ],
   "source": [
    "mean_lgm = np.mean(rand_lgm)\n",
    "mean_lgm"
   ]
  },
  {
   "cell_type": "code",
   "execution_count": 10,
   "metadata": {},
   "outputs": [
    {
     "name": "stdout",
     "output_type": "stream",
     "text": [
      "The built in random numbers have a slightly smaller standard deviation.\n",
      "The deviation from the true mean are about the same for both methods.\n"
     ]
    },
    {
     "data": {
      "image/png": "[encoded data removed]",
      "text/plain": [
       "<Figure size 432x288 with 1 Axes>"
      ]
     },
     "metadata": {
      "needs_background": "light"
     },
     "output_type": "display_data"
    }
   ],
   "source": [
    "rand_builtin = np.random.uniform(0,1,10000)\n",
    "mean_builtin = np.mean(rand_builtin)\n",
    "std_builtin = np.std(rand_builtin)\n",
    "diff_builtin= (mean_builtin-0.5)/0.5\n",
    "diff_lgm = (mean_lgm-0.5)/0.5\n",
    "\n",
    "# combare\n",
    "q1b_lgm = plt.hist(rand_lgm)\n",
    "q1b_builtint = plt.hist(rand_builtin)\n",
    "print(\"The built in random numbers have a slightly smaller standard deviation.\")\n",
    "print(\"The deviation from the true mean are about the same for both methods.\")"
   ]
  },
  {
   "cell_type": "markdown",
   "metadata": {},
   "source": [
    "2 Use the numbers of part (a) of question 1 to do the following:\n",
    "(a) Generate 10,000 random numbers with the following distribution:\n",
    "𝑋={−1 𝑤𝑖𝑡ℎ 𝑝𝑟𝑜𝑏𝑎𝑏𝑖𝑙𝑖𝑡𝑦 0.300 𝑤𝑖𝑡ℎ 𝑝𝑟𝑜𝑏𝑎𝑏𝑖𝑙𝑖𝑡𝑦 0.351 𝑤𝑖𝑡ℎ 𝑝𝑟𝑜𝑏𝑎𝑏𝑖𝑙𝑖𝑡𝑦 0.202 𝑤𝑖𝑡ℎ 𝑝𝑟𝑜𝑏𝑎𝑏𝑖𝑙𝑖𝑡𝑦 0.15\n",
    "(b) Draw the histogram and compute the empirical mean and the standard deviation of the sequence of 10,000 numbers generated above in part (a)."
   ]
  },
  {
   "cell_type": "code",
   "execution_count": 11,
   "metadata": {},
   "outputs": [
    {
     "data": {
      "image/png": "[encoded data removed]",
      "text/plain": [
       "<Figure size 432x288 with 1 Axes>"
      ]
     },
     "metadata": {
      "needs_background": "light"
     },
     "output_type": "display_data"
    }
   ],
   "source": [
    "#2.a generatae discrete distribution\n",
    "rand_disc=rand_lgm.copy()\n",
    "rand_disc[(rand_disc <= 0.3)] = -1\n",
    "rand_disc[(rand_disc > 0.3) & (rand_disc <= 0.65)] = 0\n",
    "rand_disc[(rand_disc > 0.65) & (rand_disc <= 0.85)] = 10 # not confuse with the original 1's\n",
    "rand_disc[(rand_disc > 0.85) & (rand_disc <= 1)] = 2          \n",
    "rand_disc[(rand_disc == 10)] = 1\n",
    "\n",
    "\n",
    "# 2 (b)\n",
    "# draw histogram and compute the empirical mean and std\n",
    "q2a = plt.hist(rand_disc)\n",
    "mean_disc = np.mean(rand_disc)\n",
    "std_disc = np.std(rand_disc)"
   ]
  },
  {
   "cell_type": "markdown",
   "metadata": {},
   "source": [
    "3. Use the idea of part (a) of Question 1 to do the following:\n",
    "(a) Generate 1,000 random numbers with Binomial distribution with 𝑛=44 and 𝑝=0.64. (Hint: A random variable with Binomial distribution (𝑛,𝑝) is a sum of n Bernoulli (𝑝) distributed random variables, so you will need to generate 44,000 Uniformly distributed random numbers, to start with).\n",
    "(b) Draw the histogram. Compute the probability that the random variable X that has Binomial (44, 0.64) distribution, is at least 40: 𝑃(𝑋≥40). Use any statistics textbook or online resources for the exact number for the above probability and compare it with your finding and comment."
   ]
  },
  {
   "cell_type": "code",
   "execution_count": 12,
   "metadata": {},
   "outputs": [
    {
     "data": {
      "image/png": "[encoded data removed]",
      "text/plain": [
       "<Figure size 432x288 with 1 Axes>"
      ]
     },
     "metadata": {
      "needs_background": "light"
     },
     "output_type": "display_data"
    }
   ],
   "source": [
    "# Generate 1,000 random numbers with Binomial distribution \n",
    "# with 𝑛=44 and p = 0.64\n",
    "# generate 44,000 uniformly distributed random variables\n",
    "rand_bin_uni = lgm(1,44000)\n",
    "# convert them into binomial\n",
    "rand_bin_uni[rand_bin_uni <= 0.64] = -1\n",
    "rand_bin_uni[rand_bin_uni > 0.64] = 0\n",
    "rand_bin_uni[rand_bin_uni == -1] = 1\n",
    "rand_bin_uni = rand_bin_uni.reshape((44,1000))\n",
    "rand_bin = sum(rand_bin_uni)\n",
    "                            \n",
    "# 3 (b) \n",
    "# draw historgram\n",
    "q3b = plt.hist(rand_bin)\n",
    "# p (x>=40)\n",
    "prob = sum(rand_bin >=40)/1000\n",
    "\n",
    "# prob =0; according to online calculator, p(x>=40)=0"
   ]
  },
  {
   "cell_type": "markdown",
   "metadata": {},
   "source": [
    "4. Use the numbers of part (a) of question 1 to do the following:\n",
    "(a) Generate 10,000 Exponentially distributed random numbers with parameter 𝜆=1.5.\n",
    "(b) Compute 𝑃(𝑋≥1) and 𝑃(𝑋≥4).\n",
    "(c) Compute the empirical mean and the standard deviation of the sequence of 10,000 numbers generated above in part (a). Draw the histogram by using the 10,000 numbers of part (a)."
   ]
  },
  {
   "cell_type": "code",
   "execution_count": 13,
   "metadata": {},
   "outputs": [
    {
     "data": {
      "image/png": "[encoded data removed]",
      "text/plain": [
       "<Figure size 432x288 with 1 Axes>"
      ]
     },
     "metadata": {
      "needs_background": "light"
     },
     "output_type": "display_data"
    }
   ],
   "source": [
    "# Generate 10,000 Exponentially distributed random numbers with parameter 𝜆=1.5                                            \n",
    "rand_exp = -1.5*np.log(1-rand_lgm)\n",
    "# 4 (b)\n",
    "# Compute 𝑃(𝑋≥1) and 𝑃(𝑋≥4).\n",
    "prob_1 = sum(rand_exp >= 1)/10000   \n",
    "prob_4 = sum(rand_exp >= 4)/10000\n",
    "            \n",
    "# 4 (c) empirical mean and std; draw histogram\n",
    "mean_exp = np.mean(rand_exp)\n",
    "std_exp = np.std(rand_exp)\n",
    "q4c = plt.hist(rand_exp)"
   ]
  },
  {
   "cell_type": "markdown",
   "metadata": {},
   "source": [
    "5. Use the idea of part (a) of Question 1 to do the following:\n",
    "(a) Generate 5,000 Uniformly distributed random numbers on [0,1].\n",
    "(b) Generate 5,000 Normally distributed random numbers with mean 0 and variance 1, by Box- Muller Method.\n",
    "(c) Compute the empirical mean and the standard deviation of the sequence of numbers generated above of part (b).\n",
    "(d) Now use the Polar-Marsaglia method to do the same as in (b).\n",
    "Note: Here you will not have the same number of random variables as in (b).\n",
    "(e) Compute the empirical mean and the standard deviation of the sequence of numbers generated above of part (d).\n",
    "(f) Now compare the efficiencies of the two above-algorithms, by comparing the execution times to generate 5,000 normally distributed random numbers by the two methods. Which one is more efficient? If you do not see a clear difference, you need to increase the number of generated realizations of random variables to 10,000, 20,000, etc."
   ]
  },
  {
   "cell_type": "code",
   "execution_count": 14,
   "metadata": {},
   "outputs": [
    {
     "name": "stdout",
     "output_type": "stream",
     "text": [
      "Box-Milluer method is faster.\n"
     ]
    },
    {
     "data": {
      "image/png": "[encoded data removed]",
      "text/plain": [
       "<Figure size 432x288 with 1 Axes>"
      ]
     },
     "metadata": {
      "needs_background": "light"
     },
     "output_type": "display_data"
    }
   ],
   "source": [
    "# 5 (a)####################################################################\n",
    "#  Generate 5,000 Uniformly distributed random numbers on [0,1] using LGM\n",
    "rand_uni = lgm(1,5000)\n",
    "\n",
    "# 5(b) Generate 5,000 N(0,1) by Box-Muller\n",
    "def norm_bm(x0,n):\n",
    "    rand_uni = lgm(x0,n)\n",
    "    rand_uni1 = rand_uni[:int(n/2)]\n",
    "    rand_uni2 = rand_uni[int(n/2):]\n",
    "    z1 = np.sqrt(-2*np.log(rand_uni1))*np.cos(2*np.pi*rand_uni2)\n",
    "    z2 = np.sqrt(-2*np.log(rand_uni1))*np.sin(2*np.pi*rand_uni2)\n",
    "    rand_norm_bm = np.concatenate([z1,z2])\n",
    "    return rand_norm_bm\n",
    "\n",
    "rand_norm_bm = norm_bm(3,5000)\n",
    "# 5(c) compute mean and std of 5(b)\n",
    "mean_norm_bm = np.mean(rand_norm_bm)\n",
    "std_norm_bm = np.std(rand_norm_bm)\n",
    "\n",
    "# 5(d) Polar-Marsaglia method\n",
    "n=5000\n",
    "rand_norm_pm = np.empty(n)\n",
    "a = 7**5\n",
    "m = 2**31-1\n",
    "x1 = 1\n",
    "x2 = 2\n",
    "i = 0\n",
    "j=0\n",
    "x = lgm(1,n)\n",
    "# if use the same lgm series\n",
    "x1 = x[:int(n/2)]\n",
    "x2 = x[int(n/2):]\n",
    "### if use built in \n",
    "#x1 = np.random.uniform(0,1,5000)\n",
    "#x2 = np.random.uniform(0,1,5000)\n",
    "v1 = 2*x1-1\n",
    "v2=2*x2-1\n",
    "w = v1**2+v2**2\n",
    "w_u=w[w<=1]\n",
    "v1_u=v1[w<=1]\n",
    "v2_u=v2[w<=1]\n",
    "z1 = v1_u*np.sqrt(-2*np.log(w_u)/w_u)\n",
    "z2=v2_u*np.sqrt(-2*np.log(w_u)/w_u)\n",
    "z = np.concatenate([z1,z2])\n",
    "# histogram\n",
    "q5d = plt.hist(z)\n",
    "\n",
    "# 5(e) compute mean and std of 5(d)\n",
    "mean_norm_pm = np.mean(z)\n",
    "std_norm_pm =np.std(z)\n",
    "\n",
    "# 5(f) compare the efficiency of the two methods\n",
    "# Polar-Marsaglia method (generate exactly n rv)\n",
    "def norm_pm(x0,n):\n",
    "    rand_norm_pm = np.zeros(n)\n",
    "    a = 7**5\n",
    "    m = 2**31-1\n",
    "    x = x0\n",
    "    i = 0\n",
    "    while (i <n):\n",
    "        x = (a*x) % m\n",
    "        u1 = x/m\n",
    "        x = (a*x) % m\n",
    "        u2 = x/m\n",
    "        v1 = 2*u1-1\n",
    "        v2 = 2*u2-1\n",
    "        w = v1**2+v2**2\n",
    "        if w <= 1:         \n",
    "            rand_norm_pm[i]=v1*np.sqrt(-2*np.log(w)/w)\n",
    "            rand_norm_pm[i+1]=v2*np.sqrt(-2*np.log(w)/w)\n",
    "            i = i + 2\n",
    "   \n",
    "    return rand_norm_pm\n",
    "\n",
    "rand_norm_pm = norm_pm(3,5000)\n",
    "\n",
    "# time of bm method\n",
    "start=timer()\n",
    "norm_bm(1,20000)\n",
    "end=timer()\n",
    "time_bm = end-start\n",
    "# time of pm method\n",
    "start=timer()\n",
    "norm_pm(1,20000)\n",
    "end=timer()\n",
    "time_pm = end-start\n",
    "\n",
    "print(\"Box-Milluer method is faster.\")\n"
   ]
  },
  {
   "cell_type": "code",
   "execution_count": null,
   "metadata": {},
   "outputs": [],
   "source": []
  }
 ],
 "metadata": {
  "kernelspec": {
   "display_name": "Python 3",
   "language": "python",
   "name": "python3"
  },
  "language_info": {
   "codemirror_mode": {
    "name": "ipython",
    "version": 3
   },
   "file_extension": ".py",
   "mimetype": "text/x-python",
   "name": "python",
   "nbconvert_exporter": "python",
   "pygments_lexer": "ipython3",
   "version": "3.7.1"
  }
 },
 "nbformat": 4,
 "nbformat_minor": 2
}
