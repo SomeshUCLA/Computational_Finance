{
 "cells": [
  {
   "cell_type": "markdown",
   "metadata": {},
   "source": [
    "### This file has simulations for Binomial Method of Option Pricing\n",
    "     1. Binomial pricing using parameter as per \n",
    "         1.1 CRR (Cox-Ross-Rubinstein) Model\n",
    "         1.2. JR (Jarrow-Rudd) Model\n",
    "     2. Log-price Process\n",
    "     3. Pricing an American Put Option\n",
    "     4. Trinomial Trees\n",
    "     5. Halton’s Low-Discrepancy Sequences to price European call options"
   ]
  },
  {
   "cell_type": "code",
   "execution_count": 14,
   "metadata": {},
   "outputs": [],
   "source": [
    "import numpy as np\n",
    "from numpy import sqrt, log, sin, cos, exp, pi, mean, repeat, var\n",
    "from scipy.stats import norm\n",
    "import matplotlib.pyplot as plt\n",
    "from math import factorial as f\n",
    "from datetime import date\n",
    "import pandas_datareader as pdr\n",
    "from scipy.ndimage.interpolation import shift\n",
    "import pandas as pd\n",
    "import os"
   ]
  },
  {
   "cell_type": "code",
   "execution_count": 15,
   "metadata": {},
   "outputs": [
    {
     "data": {
      "text/plain": [
       "<matplotlib.legend.Legend at 0x1e3e0118cc0>"
      ]
     },
     "execution_count": 15,
     "metadata": {},
     "output_type": "execute_result"
    },
    {
     "data": {
      "image/png": "[encoded data removed]",
      "text/plain": [
       "<Figure size 432x288 with 1 Axes>"
      ]
     },
     "metadata": {
      "needs_background": "light"
     },
     "output_type": "display_data"
    }
   ],
   "source": [
    "######################### Question 1  ################################\n",
    "\n",
    "def binomEurCall(So, K, u, d, p, r, T, n):\n",
    "    call = 0\n",
    "    for i in range(n):\n",
    "        call = call + ( f(n)/(f(i)*f(n-i)) )*p**(n-i)*(1-p)**i*max(So*u**(n-i)*d**i - K, 0)   ##f is factorial imported above\n",
    "    return exp(-r*T)*call\n",
    "\n",
    "\n",
    "T = 0.5\n",
    "r = .05\n",
    "sigma = .24\n",
    "So = 32\n",
    "K = 30\n",
    "N = np.array([10, 20, 40, 80, 100, 200, 500])\n",
    "    \n",
    "       \n",
    "## part a\n",
    "callPrices = np.array([])\n",
    "for n in np.nditer(N):\n",
    "    c = 0.5*(exp(-r*T/n) + exp( (r+sigma**2)*(T/n) ))\n",
    "    d = c - sqrt(c**2-1)\n",
    "    u = 1/d\n",
    "    p = (exp(r*T/n) - d)/(u-d)\n",
    "    callPrices = np.append(callPrices, binomEurCall(So, K, u, d, p, r, T, n))\n",
    "plt.plot(N, callPrices, 'r', label='part-a')\n",
    "\n",
    "\n",
    "\n",
    "## part b\n",
    "callPrices = np.array([])\n",
    "for n in np.nditer(N):\n",
    "    u = exp(r*T/n)*(1+sqrt(exp(sigma**2*(T/n))-1))\n",
    "    d = exp(r*T/n)*(1-sqrt(exp(sigma**2*(T/n))-1))\n",
    "    p = 0.5\n",
    "    callPrices = np.append(callPrices, binomEurCall(So, K, u, d, p, r, T, n))\n",
    "plt.plot(N, callPrices, 'b', label='part-b')\n",
    "   \n",
    " ## part c\n",
    "callPrices = np.array([])\n",
    "for n in np.nditer(N):\n",
    "    u = exp( (r-sigma**2/2)*(T/n) + sigma*sqrt(T/n) )\n",
    "    d = exp( (r-sigma**2/2)*(T/n) - sigma*sqrt(T/n) )\n",
    "    p = 0.5\n",
    "    callPrices = np.append(callPrices, binomEurCall(So, K, u, d, p, r, T, n))\n",
    "plt.plot(N, callPrices, 'g', label='part-c')\n",
    " \n",
    "  ## part d\n",
    "callPrices = np.array([])\n",
    "for n in np.nditer(N):\n",
    "    u = exp(sigma*sqrt(T/n))\n",
    "    d = exp(-sigma*sqrt(T/n))\n",
    "    p = 0.5 + 0.5*( (r-sigma**2/2)*sqrt(T/n)/sigma )\n",
    "    callPrices = np.append(callPrices, binomEurCall(So, K, u, d, p, r, T, n))\n",
    "plt.plot(N, callPrices, 'y', label='part-d')\n",
    "plt.title(\"Convergence Rates of Binomial Methods\")\n",
    "plt.xlabel(\"Division of Time interval n\")\n",
    "plt.ylabel(\"Option Price\")\n",
    "plt.legend(loc='upper right')\n",
    "  \n"
   ]
  },
  {
   "cell_type": "code",
   "execution_count": 16,
   "metadata": {},
   "outputs": [
    {
     "name": "stdout",
     "output_type": "stream",
     "text": [
      "estimated call price - Google-20190118  130221.01842851126 \n",
      "\n",
      "estimated call price - Google-20190118  67.5 \n",
      "\n",
      "Volatility which makes estimated call price equal to market price  0.2212889210856076\n"
     ]
    }
   ],
   "source": [
    "  \n",
    "############################### Ques 2  ######################################\n",
    "def binomAmericanCallOptionPrice(So, K, u, d, p, r, T, n):\n",
    "    stockTree = np.zeros((n+1, n+1))\n",
    "    for i in range(n+1):\n",
    "        for j in range(i+1):\n",
    "            stockTree[i, j] = So * u ** (j) * d**((i)-(j))\n",
    "    optionTree = np.zeros((stockTree.shape[0], stockTree.shape[1]))\n",
    "    optionTree[optionTree.shape[0]-1, ] = np.maximum(stockTree[stockTree.shape[0]-1,] - K, 0)\n",
    "   \n",
    "    for i in range(stockTree.shape[0]-2, -1, -1):\n",
    "        for j in range(i+1):\n",
    "            optionTree[i, j] = max( ((1-p)*optionTree[i+1,j] +p*optionTree[i+1,j+1])/exp(r*T/n), max(stockTree[i, j]- K, 0) )\n",
    "    return optionTree[0,0]\n",
    "\n",
    "#data_today = pdr.get_data_yahoo(\"GOOG\", start=\"2018-02-07\", end=\"2018-02-07\")\n",
    "goog = data_today.iloc[0][4]\n",
    "r = 0.02\n",
    "K = round(1.1*goog, -1)\n",
    "#expiration date Jan-18-2019\n",
    "today = date(2018, 2, 7)\n",
    "expiry = date(2019, 1, 18)\n",
    "T = ((expiry-today).days)/365\n",
    "#extracting google data from yahoo\n",
    "#data_history60m = pdr.get_data_yahoo(\"GOOG\", start=\"2018-02-07\", end=\"2013-02-06\")\n",
    "price60m = pd.read_csv('./GOOG.csv')\n",
    "adjclose = price60m[['Adj Close']]\n",
    "dailyRet = adjclose/adjclose.shift(1)-1\n",
    "dailySD = sqrt(var(dailyRet))\n",
    "\n",
    "sigma = dailySD[0]*sqrt(252)\n",
    "\n",
    "   \n",
    "n=100 #running 10 simulation\n",
    "c = 0.5*(exp(-r*T/n) + exp( (r+sigma**2)*(T/n) ))\n",
    "d = c - sqrt(c**2-1)\n",
    "u = 1/d\n",
    "p = (exp(r*T/n) - d)/(u-d)\n",
    "  \n",
    "googCall = binomAmericanCallOptionPrice(goog, K, u, d, p, r, T, n)\n",
    "print(\"estimated call price - Google-20190118 \", googCall, \"\\n\")\n",
    "    \n",
    "googCallYahoo = 67.50\n",
    "    \n",
    "print(\"estimated call price - Google-20190118 \", googCallYahoo, \"\\n\")\n",
    "    \n",
    "increment = 0.001\n",
    "while (googCallYahoo-googCall > 0.1):\n",
    "    sigma = sigma + increment\n",
    "    c =  0.5*(exp(-r*T/n) + exp( (r+sigma**2)*(T/n) ))\n",
    "    d = c - sqrt(c**2-1)\n",
    "    u = 1/d\n",
    "    p = (exp(r*T/n) - d)/(u-d)\n",
    "    googCall = binomEurCall(goog, K, u, d, p, r, T, n)\n",
    " \n",
    "print(\"Volatility which makes estimated call price equal to market price \", sigma) \n",
    "\n"
   ]
  },
  {
   "cell_type": "code",
   "execution_count": 19,
   "metadata": {},
   "outputs": [
    {
     "data": {
      "text/plain": [
       "<matplotlib.legend.Legend at 0x1e3e010c080>"
      ]
     },
     "execution_count": 19,
     "metadata": {},
     "output_type": "execute_result"
    },
    {
     "data": {
      "image/png": "[encoded data removed]",
      "text/plain": [
       "<Figure size 432x288 with 1 Axes>"
      ]
     },
     "metadata": {
      "needs_background": "light"
     },
     "output_type": "display_data"
    }
   ],
   "source": [
    "######################## Ques 4 ##############################\n",
    "def binomEurPut(So, K, u, d, p, r, T, n):\n",
    "    put = 0\n",
    "    for i in range(n):\n",
    "        put = put + ( f(n)/(f(i)*f(n-i)) )*p**(n-i)*(1-p)**i*max(K-So*u**(n-i)*d**i, 0)\n",
    "    return exp(-r*T)*put\n",
    "\n",
    "r = 0.05\n",
    "sigma = .30\n",
    "K = 100\n",
    "So = np.arange(80, 120+4, 4)\n",
    "T = 1\n",
    "n = 10\n",
    "\n",
    "c =  0.5*(exp(-r*T/n) + exp( (r+sigma**2)*(T/n) ))\n",
    "d = c - sqrt(c**2-1)\n",
    "u = 1/d\n",
    "p = (exp(r*T/n) - d)/(u-d)\n",
    "\n",
    "EurPut = np.array([])\n",
    "for s in np.nditer(So):\n",
    "    EurPut = np.append(EurPut, binomEurPut(s, K, u, d, p, r, T, n))\n",
    "\n",
    "plt.plot(So, EurPut, 'b', label='European Put')\n",
    "\n",
    "#for American Put\n",
    "\n",
    "def binomAmericanPutOptionPrice(So, K, u, d, p, r, T, n):\n",
    "    stockTree = np.zeros((n+1, n+1))\n",
    "    for i in range(n+1):\n",
    "        for j in range(i+1):\n",
    "            stockTree[i, j] = So * u ** (j) * d**((i)-(j))\n",
    "    optionTree = np.zeros((stockTree.shape[0], stockTree.shape[1]))\n",
    "    optionTree[optionTree.shape[0]-1, ] = np.maximum(K - stockTree[stockTree.shape[0]-1,], 0)\n",
    "   \n",
    "    for i in range(stockTree.shape[0]-2, -1, -1):\n",
    "        for j in range(i+1):\n",
    "            optionTree[i, j] = max( ((1-p)*optionTree[i+1,j] +p*optionTree[i+1,j+1])/exp(r*T/n), max(K-stockTree[i, j], 0) )\n",
    "    return optionTree[0,0]\n",
    " \n",
    "AmerPut = np.array([])    \n",
    "for s in np.nditer(So):\n",
    "    AmerPut = np.append(AmerPut, binomAmericanPutOptionPrice(s, K, u, d, p, r, T, n))\n",
    "plt.plot(So, AmerPut, 'r', label='American Put')\n",
    "plt.xlabel(\"Initial Stock Prices\")\n",
    "plt.ylabel(\"Put Option Price\")\n",
    "plt.title(\"Put Option Graph\")\n",
    "plt.legend(loc='upper right')\n",
    "\n",
    "\n"
   ]
  },
  {
   "cell_type": "code",
   "execution_count": 20,
   "metadata": {},
   "outputs": [
    {
     "data": {
      "text/plain": [
       "<matplotlib.legend.Legend at 0x1e3e24a4e48>"
      ]
     },
     "execution_count": 20,
     "metadata": {},
     "output_type": "execute_result"
    },
    {
     "data": {
      "image/png": "[encoded data removed]",
      "text/plain": [
       "<Figure size 432x288 with 1 Axes>"
      ]
     },
     "metadata": {
      "needs_background": "light"
     },
     "output_type": "display_data"
    }
   ],
   "source": [
    "############################Ques 5 #######################################\n",
    "## 5.a\n",
    "def trinomEurCall_ud(So, K, u, d, Pu, Pd, Pm, r, T, n):\n",
    "    stockTree = np.zeros((n+1, 2*n+1))\n",
    "    for i in range(n+1):\n",
    "        for j in range(2*i+1):\n",
    "            stockTree[i, j] = So * u ** max(j-i, 0) * d**max((i-j, 0))\n",
    "    optionTree = np.zeros((stockTree.shape[0], stockTree.shape[1]))\n",
    "    optionTree[optionTree.shape[0]-1, ] = np.maximum(stockTree[stockTree.shape[0]-1,]-K, 0)\n",
    "   \n",
    "    for i in range(stockTree.shape[0]-2, -1, -1):\n",
    "        for j in range(2*i+1):\n",
    "            optionTree[i, j] = (Pd*optionTree[i+1,j] + Pm*optionTree[i+1,j+1] + Pu*optionTree[i+1,j+2] )/exp(r*T/n)\n",
    "    return optionTree[0,0]\n",
    "\n",
    "T = 0.5\n",
    "r = 0.05\n",
    "sigma = 0.24\n",
    "So = 32\n",
    "K = 30\n",
    "N = np.array([10, 15, 20, 40, 70, 80, 100, 200, 500])\n",
    "\n",
    "call5a = np.array([])\n",
    "for n in np.nditer(N):\n",
    "    d = exp(-sigma*sqrt(3*T/n))\n",
    "    u = 1/d\n",
    "    Pd = ( r*(T/n)*(1-u) + (r*T/n)**2 + sigma**2*(T/n) )/( (u-d)*(1-d) )\n",
    "    Pu = ( r*(T/n)*(1-d) + (r*T/n)**2 + sigma**2*(T/n) )/( (u-d)*(u-1) )\n",
    "    Pm = 1-Pu-Pd\n",
    "    call5a = np.append(call5a, trinomEurCall_ud(So, K, u, d, Pu, Pd, Pm, r, T, n))\n",
    "\n",
    "plt.plot(N, call5a, 'b', label='Part-5a')\n",
    "\n",
    "## 5.b\n",
    "\n",
    "def trinomEurCall_deltaX(So, K, x, Pu, Pd, Pm, r, T, n):\n",
    "    lnStockTree = np.zeros((n+1, 2*n+1))\n",
    "    for i in range(n+1):\n",
    "        for j in range(2*i+1):\n",
    "            lnStockTree[i, j] = log(So) - (i-j)*x\n",
    "    stockTree = np.where(lnStockTree>0, exp(lnStockTree), 0)\n",
    "    optionTree = np.zeros((stockTree.shape[0], stockTree.shape[1]))\n",
    "    optionTree[optionTree.shape[0]-1, ] = np.maximum(stockTree[lnStockTree.shape[0]-1,]-K, 0)\n",
    "   \n",
    "    for i in range(lnStockTree.shape[0]-2, -1, -1):\n",
    "        for j in range(2*i+1):\n",
    "            optionTree[i, j] = ( Pd*optionTree[i+1,j] + Pm*optionTree[i+1,j+1] + Pu*optionTree[i+1,j+2] )/exp(r*T/n) \n",
    "    return optionTree[0,0]\n",
    "\n",
    "\n",
    "call5b = np.array([])\n",
    "for n in np.nditer(N):\n",
    "    x = sigma*sqrt(3*T/n)\n",
    "    Pd = 0.5*(   ( sigma**2*(T/n)+(r-sigma**2/2)**2*(T/n)**2)/(x**2) -  (r-sigma**2/2)*(T/n)/x )\n",
    "    Pu = 0.5*(   ( sigma**2*(T/n)+(r-sigma**2/2)**2*(T/n)**2)/(x**2) +  (r-sigma**2/2)*(T/n)/x )\n",
    "    Pm = 1-Pu-Pd\n",
    "    call5b = np.append(call5b, trinomEurCall_deltaX(So, K, x, Pu, Pd, Pm, r, T, n))\n",
    "\n",
    "plt.plot(N, call5b, 'r', label='Part-5b')\n",
    "\n",
    "plt.xlabel(\"Value of n (division of time interval)\")\n",
    "plt.ylabel(\"Call Option Price\")\n",
    "plt.title(\"Call Option Price Convergence Graph\")\n",
    "plt.legend(loc='center right')\n",
    "\n"
   ]
  },
  {
   "cell_type": "code",
   "execution_count": 21,
   "metadata": {},
   "outputs": [
    {
     "data": {
      "text/plain": [
       "12.880859699190266"
      ]
     },
     "execution_count": 21,
     "metadata": {},
     "output_type": "execute_result"
    }
   ],
   "source": [
    "\n",
    "\n",
    "######################################## Ques 6 ###################################\n",
    "\n",
    "#Generates Halton Sequence \n",
    "# Code help taken from Class notes matlab code and implemented in Python\n",
    "def genHalton(size, base):\n",
    "    seq = np.zeros(size)\n",
    "    bits = 1+np.ceil(log(size)/log(base))\n",
    "    VetBase = pow(base, -np.arange(bits+1))\n",
    "    WorkVet = np.zeros(int(bits+1))\n",
    "    for i in range(size):\n",
    "        j = 1\n",
    "        ok = 0\n",
    "        while ok == 0:\n",
    "            WorkVet[j] = WorkVet[j]+1\n",
    "            if(WorkVet[j] < base):\n",
    "                ok = 1\n",
    "            else:\n",
    "                WorkVet[j] = 0\n",
    "                j = j+1\n",
    "        \n",
    "        seq[i] = sum(WorkVet*VetBase)\n",
    "    return seq\n",
    "\n",
    "# Generates N(0,1) using Box-Muller method\n",
    "# @param n = number of standard normal random numbers\n",
    "# @param seed\n",
    "# @return numpy array of 'n' N(0,1) numbers\n",
    "def genStandardNorm(n, b1, b2, seed=100):\n",
    "    rnorm = np.array([])\n",
    "    H1 = genHalton(n//2, b1)\n",
    "    H2 = genHalton(n//2, b2)\n",
    "    z1 = sqrt(-2*log(H1))*cos(2*pi*H2)\n",
    "    z2 = sqrt(-2*log(H1))*sin(2*pi*H2)\n",
    "    rnorm = np.append(rnorm, z1) \n",
    "    rnorm = np.append(rnorm, z2)\n",
    "    return rnorm\n",
    "\n",
    "def ques6_EurCallPrice(So, K, sigma, r, T, N, b1, b2):\n",
    "    z = genStandardNorm(N, b1, b2, 100)\n",
    "    St = So*exp( (r-sigma**2/2)*T + sigma*sqrt(T)*z )\n",
    "    payoff = St-K\n",
    "    payoff = np.where(payoff>0, payoff, 0)\n",
    "    return exp(-r*T)*mean(payoff)\n",
    "\n",
    "ques6_EurCallPrice(100, 100, 0.25, 0.05, 1, 20, 2, 5)\n",
    "\n"
   ]
  },
  {
   "cell_type": "code",
   "execution_count": null,
   "metadata": {},
   "outputs": [],
   "source": []
  }
 ],
 "metadata": {
  "kernelspec": {
   "display_name": "Python 3",
   "language": "python",
   "name": "python3"
  },
  "language_info": {
   "codemirror_mode": {
    "name": "ipython",
    "version": 3
   },
   "file_extension": ".py",
   "mimetype": "text/x-python",
   "name": "python",
   "nbconvert_exporter": "python",
   "pygments_lexer": "ipython3",
   "version": "3.7.1"
  }
 },
 "nbformat": 4,
 "nbformat_minor": 2
}
